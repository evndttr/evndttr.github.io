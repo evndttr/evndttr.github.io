{
  "nbformat": 4,
  "nbformat_minor": 0,
  "metadata": {
    "colab": {
      "provenance": [],
      "authorship_tag": "ABX9TyNMRV4+Zpn8xfVQJkQZFChn",
      "include_colab_link": true
    },
    "kernelspec": {
      "name": "python3",
      "display_name": "Python 3"
    },
    "language_info": {
      "name": "python"
    }
  },
  "cells": [
    {
      "cell_type": "markdown",
      "metadata": {
        "id": "view-in-github",
        "colab_type": "text"
      },
      "source": [
        "<a href=\"https://colab.research.google.com/github/evndttr/evndttr.github.io/blob/main/Passim_with_ALTO_xml_example.ipynb\" target=\"_parent\"><img src=\"https://colab.research.google.com/assets/colab-badge.svg\" alt=\"Open In Colab\"/></a>"
      ]
    },
    {
      "cell_type": "code",
      "execution_count": null,
      "metadata": {
        "colab": {
          "base_uri": "https://localhost:8080/"
        },
        "id": "zHHUqky8_JSA",
        "outputId": "9558ed01-5f4c-4f76-999e-ce37b66cd95e"
      },
      "outputs": [
        {
          "output_type": "stream",
          "name": "stdout",
          "text": [
            "openjdk 11.0.28 2025-07-15\n",
            "OpenJDK Runtime Environment (build 11.0.28+6-post-Ubuntu-1ubuntu122.04.1)\n",
            "OpenJDK 64-Bit Server VM (build 11.0.28+6-post-Ubuntu-1ubuntu122.04.1, mixed mode, sharing)\n"
          ]
        }
      ],
      "source": [
        "!java --version"
      ]
    },
    {
      "cell_type": "code",
      "source": [
        "!pip install git+https://github.com/dasmiq/passim.git"
      ],
      "metadata": {
        "colab": {
          "base_uri": "https://localhost:8080/"
        },
        "id": "l8od6Bd6_Lh2",
        "outputId": "507ec0b6-5fa0-4b86-cd2b-af639df811b2"
      },
      "execution_count": null,
      "outputs": [
        {
          "output_type": "stream",
          "name": "stdout",
          "text": [
            "Collecting git+https://github.com/dasmiq/passim.git\n",
            "  Cloning https://github.com/dasmiq/passim.git to /tmp/pip-req-build-27mz7gbt\n",
            "  Running command git clone --filter=blob:none --quiet https://github.com/dasmiq/passim.git /tmp/pip-req-build-27mz7gbt\n",
            "  Resolved https://github.com/dasmiq/passim.git to commit e4eea1c89c4182094d119047c85032cd9163ea17\n",
            "  Preparing metadata (setup.py) ... \u001b[?25l\u001b[?25hdone\n",
            "Requirement already satisfied: pyspark>=3.5.1 in /usr/local/lib/python3.12/dist-packages (from passim==2.0.0) (3.5.1)\n",
            "Collecting graphframes (from passim==2.0.0)\n",
            "  Downloading graphframes-0.6-py2.py3-none-any.whl.metadata (934 bytes)\n",
            "Collecting intervaltree (from passim==2.0.0)\n",
            "  Downloading intervaltree-3.1.0.tar.gz (32 kB)\n",
            "  Preparing metadata (setup.py) ... \u001b[?25l\u001b[?25hdone\n",
            "Requirement already satisfied: py4j==0.10.9.7 in /usr/local/lib/python3.12/dist-packages (from pyspark>=3.5.1->passim==2.0.0) (0.10.9.7)\n",
            "Requirement already satisfied: numpy in /usr/local/lib/python3.12/dist-packages (from graphframes->passim==2.0.0) (2.0.2)\n",
            "Collecting nose (from graphframes->passim==2.0.0)\n",
            "  Downloading nose-1.3.7-py3-none-any.whl.metadata (1.7 kB)\n",
            "Requirement already satisfied: sortedcontainers<3.0,>=2.0 in /usr/local/lib/python3.12/dist-packages (from intervaltree->passim==2.0.0) (2.4.0)\n",
            "Downloading graphframes-0.6-py2.py3-none-any.whl (18 kB)\n",
            "Downloading nose-1.3.7-py3-none-any.whl (154 kB)\n",
            "\u001b[2K   \u001b[90m━━━━━━━━━━━━━━━━━━━━━━━━━━━━━━━━━━━━━━━━\u001b[0m \u001b[32m154.7/154.7 kB\u001b[0m \u001b[31m5.2 MB/s\u001b[0m eta \u001b[36m0:00:00\u001b[0m\n",
            "\u001b[?25hBuilding wheels for collected packages: passim, intervaltree\n",
            "  Building wheel for passim (setup.py) ... \u001b[?25l\u001b[?25hdone\n",
            "  Created wheel for passim: filename=passim-2.0.0-py3-none-any.whl size=15556 sha256=f9c6cb98dd9c5c5581d9a0d6a10316bc3c82f98d7e591c04acfaed6fe36ecabe\n",
            "  Stored in directory: /tmp/pip-ephem-wheel-cache-nj5gh1ot/wheels/b0/51/a2/50fb4f12befcc05270d5ad947734813b1e14df43e9f21862ad\n",
            "  Building wheel for intervaltree (setup.py) ... \u001b[?25l\u001b[?25hdone\n",
            "  Created wheel for intervaltree: filename=intervaltree-3.1.0-py2.py3-none-any.whl size=26098 sha256=a7eaabb700c63a71acea0fd467bf227f705d288c155744d244bc49a5ca870076\n",
            "  Stored in directory: /root/.cache/pip/wheels/65/c3/c3/238bf93c243597857edd94ddb0577faa74a8e16e9585896e83\n",
            "Successfully built passim intervaltree\n",
            "Installing collected packages: nose, intervaltree, graphframes, passim\n",
            "Successfully installed graphframes-0.6 intervaltree-3.1.0 nose-1.3.7 passim-2.0.0\n"
          ]
        }
      ]
    },
    {
      "cell_type": "code",
      "source": [
        "!seriatim --help"
      ],
      "metadata": {
        "colab": {
          "base_uri": "https://localhost:8080/"
        },
        "id": "1W47z55p_M7J",
        "outputId": "85457a28-1df3-47c6-b758-29455b0b13e2"
      },
      "execution_count": null,
      "outputs": [
        {
          "output_type": "stream",
          "name": "stdout",
          "text": [
            "https://repos.spark-packages.org/ added as a remote repository with the name: repo-1\n",
            ":: loading settings :: url = jar:file:/usr/local/lib/python3.12/dist-packages/pyspark/jars/ivy-2.5.1.jar!/org/apache/ivy/core/settings/ivysettings.xml\n",
            "Ivy Default Cache set to: /root/.ivy2/cache\n",
            "The jars for the packages stored in: /root/.ivy2/jars\n",
            "graphframes#graphframes added as a dependency\n",
            ":: resolving dependencies :: org.apache.spark#spark-submit-parent-0e982729-63eb-4dd6-9f2c-05ad45f41578;1.0\n",
            "\tconfs: [default]\n",
            "\tfound graphframes#graphframes;0.8.4-spark3.5-s_2.12 in spark-packages\n",
            "\tfound org.slf4j#slf4j-api;1.7.16 in central\n",
            "downloading https://repos.spark-packages.org/graphframes/graphframes/0.8.4-spark3.5-s_2.12/graphframes-0.8.4-spark3.5-s_2.12.jar ...\n",
            "\t[SUCCESSFUL ] graphframes#graphframes;0.8.4-spark3.5-s_2.12!graphframes.jar (82ms)\n",
            "downloading https://repo1.maven.org/maven2/org/slf4j/slf4j-api/1.7.16/slf4j-api-1.7.16.jar ...\n",
            "\t[SUCCESSFUL ] org.slf4j#slf4j-api;1.7.16!slf4j-api.jar (119ms)\n",
            ":: resolution report :: resolve 1982ms :: artifacts dl 212ms\n",
            "\t:: modules in use:\n",
            "\tgraphframes#graphframes;0.8.4-spark3.5-s_2.12 from spark-packages in [default]\n",
            "\torg.slf4j#slf4j-api;1.7.16 from central in [default]\n",
            "\t---------------------------------------------------------------------\n",
            "\t|                  |            modules            ||   artifacts   |\n",
            "\t|       conf       | number| search|dwnlded|evicted|| number|dwnlded|\n",
            "\t---------------------------------------------------------------------\n",
            "\t|      default     |   2   |   2   |   2   |   0   ||   2   |   2   |\n",
            "\t---------------------------------------------------------------------\n",
            ":: retrieving :: org.apache.spark#spark-submit-parent-0e982729-63eb-4dd6-9f2c-05ad45f41578\n",
            "\tconfs: [default]\n",
            "\t2 artifacts copied, 0 already retrieved (281kB/13ms)\n",
            "usage: submit-seriatim.py [-h] [-i ID] [-t TEXT] [--locs LOCS] [--pages PAGES]\n",
            "                          [-l N] [-u N] [-m N] [-n N] [--floating-ngrams]\n",
            "                          [--complete-lines] [-g N] [--max-offset N]\n",
            "                          [--beam N] [--pcopy p] [-a N] [--src-overlap p]\n",
            "                          [--dst-overlap p] [--fields FIELDS [FIELDS ...]]\n",
            "                          [-f FILTERPAIRS] [--all-pairs] [--pairwise]\n",
            "                          [--docwise] [--refpref] [--linewise] [--to-index]\n",
            "                          [--to-pairs] [--to-extents]\n",
            "                          [--link-model LINK_MODEL]\n",
            "                          [--link-features LINK_FEATURES]\n",
            "                          [--log-level {ERROR,WARN,INFO,DEBUG}]\n",
            "                          [--input-format INPUT_FORMAT]\n",
            "                          [--output-format OUTPUT_FORMAT]\n",
            "                          <path> <path>\n",
            "\n",
            "Passim Alignment\n",
            "\n",
            "positional arguments:\n",
            "  <path>                input data\n",
            "  <path>                output\n",
            "\n",
            "options:\n",
            "  -h, --help            show this help message and exit\n",
            "  -i ID, --id ID        Field for unique document IDs (default: id)\n",
            "  -t TEXT, --text TEXT  Field for document text (default: text)\n",
            "  --locs LOCS           Field for citable loci (default: locs)\n",
            "  --pages PAGES         Field for page location information (default: pages)\n",
            "  -l N, --minDF N       Lower limit on document frequency (default: 2)\n",
            "  -u N, --maxDF N       Upper limit on document frequency (default: 100)\n",
            "  -m N, --min-match N   Minimum number of n-gram matches between documents\n",
            "                        (default: 5)\n",
            "  -n N, --n N           n-gram order (default: 25)\n",
            "  --floating-ngrams     Allow n-grams to float from word boundaries (default:\n",
            "                        False)\n",
            "  --complete-lines      Break target alignments at line breaks (default:\n",
            "                        False)\n",
            "  -g N, --gap N         Minimum size of gap that separates passages (default:\n",
            "                        600)\n",
            "  --max-offset N        Maximum offset in global alignment [deprecated]\n",
            "                        (default: 20)\n",
            "  --beam N              Beam search width (default: 20)\n",
            "  --pcopy p             Probability of copying a character (default: 0.8)\n",
            "  -a N, --min-align N   Minimum length of alignment (default: 50)\n",
            "  --src-overlap p       Source overlap proportion (default: 0.9)\n",
            "  --dst-overlap p       Destination overlap proportion (default: 0.5)\n",
            "  --fields FIELDS [FIELDS ...]\n",
            "                        List of fields to index (default: [])\n",
            "  -f FILTERPAIRS, --filterpairs FILTERPAIRS\n",
            "                        SQL constraint on posting pairs (default: uid < uid2)\n",
            "  --all-pairs           Compute alignments for all pairs. (default: False)\n",
            "  --pairwise            Output pairwise alignments (default: False)\n",
            "  --docwise             Output docwise alignments (default: False)\n",
            "  --refpref             Reference texts aligned separately (default: False)\n",
            "  --linewise            Output linewise alignments (default: False)\n",
            "  --to-index            Output index and stop (default: False)\n",
            "  --to-pairs            Output pairs and stop (default: False)\n",
            "  --to-extents          Output extents and stop (default: False)\n",
            "  --link-model LINK_MODEL\n",
            "                        Link model in R format (default: None)\n",
            "  --link-features LINK_FEATURES\n",
            "                        Link model features as SQL SELECT (default: None)\n",
            "  --log-level {ERROR,WARN,INFO,DEBUG}\n",
            "                        spark log level (default: WARN)\n",
            "  --input-format INPUT_FORMAT\n",
            "                        Input format (default: json)\n",
            "  --output-format OUTPUT_FORMAT\n",
            "                        Output format (default: json)\n"
          ]
        }
      ]
    },
    {
      "cell_type": "code",
      "source": [
        "import json\n",
        "from urllib.request import urlopen\n",
        "import sys\n",
        "import passim"
      ],
      "metadata": {
        "id": "4gKjgWKV_OeG"
      },
      "execution_count": null,
      "outputs": []
    },
    {
      "cell_type": "code",
      "source": [
        "import xml.etree.ElementTree as ET\n",
        "\n",
        "# Path to your uploaded file\n",
        "xml_path = \"/content/28.xml\"\n",
        "\n",
        "# Parse the XML\n",
        "tree = ET.parse(xml_path)\n",
        "root = tree.getroot()\n",
        "\n",
        "# Namespace (ALTO v4)\n",
        "ns = {'a': 'http://www.loc.gov/standards/alto/ns-v4#'}\n",
        "\n",
        "# Collect each line's words separately\n",
        "lines = []\n",
        "for textline in root.findall('.//a:TextLine', ns):\n",
        "    words = [el.attrib['CONTENT'] for el in textline.findall('.//a:String', ns)]\n",
        "    line_text = \" \".join(words)\n",
        "    lines.append(line_text)\n",
        "\n",
        "# Join all lines into one text block, keeping newlines\n",
        "raw_ocr = \"\\n\".join(lines)\n",
        "\n",
        "# Optional: print a preview\n",
        "print(raw_ocr[:500] + \"...\")\n",
        "print(f\"\\nTotal characters: {len(raw_ocr)}\")\n"
      ],
      "metadata": {
        "colab": {
          "base_uri": "https://localhost:8080/"
        },
        "id": "uP1-2JYL_4LF",
        "outputId": "4802af93-530d-4df9-9180-2c0a31bcf8e6"
      },
      "execution_count": null,
      "outputs": [
        {
          "output_type": "stream",
          "name": "stdout",
          "text": [
            "Un ung loppin Aulquts des corones de cuyo El mun meloe\n",
            "dogis que couh leiops bãrquas qul fourilu adam E se concldu\n",
            "sur fea tlore despoul Iilesz I naugem ⁊ eus cgais\n",
            "rase toue opoet elot dong plu ꝯchausfee suo Rees csureces\n",
            "E portilldnt feluo poulsson der oh fusuie eI po de\n",
            "oa mugdelame o mi saoquey laue luti at I e tonti ⁊ /ar lotes\n",
            "de lenne d de Radisnee locirsiui = eniy olile Eseum Il\n",
            "deuauan gocud I pn se prudolu touis led spmres ae cpunta\n",
            "danree en dibex ou telys bandes faisant geant, rgi...\n",
            "\n",
            "Total characters: 1830\n"
          ]
        }
      ]
    },
    {
      "cell_type": "code",
      "source": [
        "print(raw_ocr)"
      ],
      "metadata": {
        "colab": {
          "base_uri": "https://localhost:8080/"
        },
        "id": "LkFomRNjAAjy",
        "outputId": "3aec9c6a-bc11-4d43-ed04-0fee9e35cb77"
      },
      "execution_count": null,
      "outputs": [
        {
          "output_type": "stream",
          "name": "stdout",
          "text": [
            "Un ung loppin Aulquts des corones de cuyo El mun meloe\n",
            "dogis que couh leiops bãrquas qul fourilu adam E se concldu\n",
            "sur fea tlore despoul Iilesz I naugem ⁊ eus cgais\n",
            "rase toue opoet elot dong plu ꝯchausfee suo Rees csureces\n",
            "E portilldnt feluo poulsson der oh fusuie eI po de\n",
            "oa mugdelame o mi saoquey laue luti at I e tonti ⁊ /ar lotes\n",
            "de lenne d de Radisnee locirsiui = eniy olile Eseum Il\n",
            "deuauan gocud I pn se prudolu touis led spmres ae cpunta\n",
            "danree en dibex ou telys bandes faisant geant, rgi\n",
            "De Ioye de nostoe uome pans Ih aniges fau fomnso foult\n",
            "del I samle Ranfaz dedinꝰ Fet biys fois dlixs uu toys qen\n",
            "damfxersr I a qui noꝰ domus mes cEũsi uiq pigre et arsine\n",
            "Cont petite clongett sosfung Ee di oc Is fuibu gond sen\n",
            "Rsindman ⁊e Suppitant dy qu Recttum Ses Galic\n",
            "u prictoyne Audes ptn reues mucy Et dus ui lan n i\n",
            "mey donne A cellst qui etordur dimubess, fueida\n",
            "eane celet q ni gboibut fui fuys autluy pour in enroy o\n",
            "nitant cosme Fiss uueloes Qrm ꝯtoidu bies une\n",
            "diytame qui st assenbudoem Nus fes mnꝑpne du Fe foottar\n",
            "aua F aitoss mamez quis esl ⁊lur fauron de faire cldoe\n",
            "R Ie leuo dossiri a femit e sũspotite, Re inggette des tumnae de\n",
            "peir deualeos, Rid Inrustinu se assembeiooit des eu bla\n",
            "pe deinis do Et diioeg papess ghaussonez Ue une\n",
            "ecomasRas grrim ꝗ niuetite De nacendociuhxo qu ilz iinon d\n",
            "ꝑerle beer abentt de taure de bitenn Pdeỹ Rori quil\n",
            "Usi a peRecs qn sonr de Rit de Ranure q n ccoret\n",
            "Ey Feelo Ipuyh̃ uis I se tiauisa tdiruiolsuii Et\n",
            "Sarr fs ne uysmau Iala pelo q me au Supe De li psreaon\n",
            "de mfe que fini slu et si terdu Paralsndue y const de\n",
            "gro mili comue: poiz aise qre au br̃s i il maugam\n",
            "ueue de pani ꝑ Ascoy Is etres auoy fu tom\n",
            "ꝑlum autques dulxx\n",
            "Cdin omaieu idn foddio langiige\n",
            "ibe Baginge E quoillsuet om dlez pounes q zͤ sarhon\n",
            "tomue mricc fe ppus puro Iques pro memelub sseo mlꝗtaCe\n"
          ]
        }
      ]
    },
    {
      "cell_type": "code",
      "source": [
        "\n",
        "# --- Load text from files instead of inline strings ---\n",
        "with open(\"/content/relation.txt\", encoding=\"utf-8\", newline=None) as f:\n",
        "    relation = f.read()\n",
        "\n",
        "docs = [\n",
        "    {\"id\": \"relation\", \"group\": \"authority\", \"text\": relation}\n",
        "]"
      ],
      "metadata": {
        "id": "qxabT7pd_QtT"
      },
      "execution_count": null,
      "outputs": []
    },
    {
      "cell_type": "code",
      "source": [
        "# Add the ocr from the xml into the documents\n",
        "text = raw_ocr\n",
        "\n",
        "docs.append({\n",
        "    'id': '/ocr_msmoreau/f28',\n",
        "    'group': '/ocr_msmoreau',\n",
        "    'text': text\n",
        "})"
      ],
      "metadata": {
        "id": "oxjp_gRgAbNe",
        "colab": {
          "base_uri": "https://localhost:8080/",
          "height": 216
        },
        "outputId": "e76e0c19-8194-49f3-e2a2-6e7fd0714c13"
      },
      "execution_count": 1,
      "outputs": [
        {
          "output_type": "error",
          "ename": "NameError",
          "evalue": "name 'raw_ocr' is not defined",
          "traceback": [
            "\u001b[0;31m---------------------------------------------------------------------------\u001b[0m",
            "\u001b[0;31mNameError\u001b[0m                                 Traceback (most recent call last)",
            "\u001b[0;32m/tmp/ipython-input-2625625001.py\u001b[0m in \u001b[0;36m<cell line: 0>\u001b[0;34m()\u001b[0m\n\u001b[1;32m      1\u001b[0m \u001b[0;31m# Add the ocr from the xml into the documents\u001b[0m\u001b[0;34m\u001b[0m\u001b[0;34m\u001b[0m\u001b[0m\n\u001b[0;32m----> 2\u001b[0;31m \u001b[0mtext\u001b[0m \u001b[0;34m=\u001b[0m \u001b[0mraw_ocr\u001b[0m\u001b[0;34m\u001b[0m\u001b[0;34m\u001b[0m\u001b[0m\n\u001b[0m\u001b[1;32m      3\u001b[0m \u001b[0;34m\u001b[0m\u001b[0m\n\u001b[1;32m      4\u001b[0m docs.append({\n\u001b[1;32m      5\u001b[0m     \u001b[0;34m'id'\u001b[0m\u001b[0;34m:\u001b[0m \u001b[0;34m'/ocr_msmoreau/f28'\u001b[0m\u001b[0;34m,\u001b[0m\u001b[0;34m\u001b[0m\u001b[0;34m\u001b[0m\u001b[0m\n",
            "\u001b[0;31mNameError\u001b[0m: name 'raw_ocr' is not defined"
          ]
        }
      ]
    },
    {
      "cell_type": "code",
      "source": [
        "with open('in.json', 'w') as f:\n",
        "  for d in docs:\n",
        "    print(json.dumps(d), file=f)"
      ],
      "metadata": {
        "id": "7TpOQluUAlzm"
      },
      "execution_count": null,
      "outputs": []
    },
    {
      "cell_type": "code",
      "source": [
        "# Delete old output\n",
        "!rm -r out_cluster\n",
        "!SPARK_SUBMIT_ARGS=\"--driver-memory 8G --executor-memory 8G\" seriatim in.json out_cluster >& out_cluster.err"
      ],
      "metadata": {
        "id": "3fS768HeA5Oz"
      },
      "execution_count": null,
      "outputs": []
    },
    {
      "cell_type": "code",
      "source": [
        "!rm -r out_cluster\n",
        "!SPARK_SUBMIT_ARGS=\"--driver-memory 8G --executor-memory 8G\" \\\n",
        "seriatim in.json out_cluster \\\n",
        "-n 15 \\\n",
        "-m 2 \\\n",
        ">& out_cluster.err"
      ],
      "metadata": {
        "id": "TqRxszf9CcNg"
      },
      "execution_count": null,
      "outputs": []
    },
    {
      "cell_type": "code",
      "source": [
        "import glob, itertools\n",
        "\n",
        "# Read one JSON record per line\n",
        "def read_jsonl_file(f):\n",
        "  res = []\n",
        "  for line in f:\n",
        "    res.append(json.loads(line))\n",
        "  return res\n",
        "\n",
        "def read_jsonl(d):\n",
        "  return list(itertools.chain.from_iterable([read_jsonl_file(open(f)) for f in glob.glob(d + '/*.json')]))"
      ],
      "metadata": {
        "id": "wR_OUzD_A8te"
      },
      "execution_count": null,
      "outputs": []
    },
    {
      "cell_type": "code",
      "source": [
        "read_jsonl('out_cluster/out.json')"
      ],
      "metadata": {
        "colab": {
          "base_uri": "https://localhost:8080/"
        },
        "id": "GRMHjMdaBCF_",
        "outputId": "2ebdbe57-c795-458c-fcd4-58154ef8a0b7"
      },
      "execution_count": null,
      "outputs": [
        {
          "output_type": "execute_result",
          "data": {
            "text/plain": [
              "[]"
            ]
          },
          "metadata": {},
          "execution_count": 333
        }
      ]
    }
  ]
}